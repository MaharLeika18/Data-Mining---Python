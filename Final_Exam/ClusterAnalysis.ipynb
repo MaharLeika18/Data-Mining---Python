{
 "cells": [
  {
   "cell_type": "code",
   "execution_count": null,
   "id": "3b706955",
   "metadata": {},
   "outputs": [],
   "source": [
    "import pandas as pd\n",
    "import numpy as np\n",
    "from mlxtend.preprocessing import TransactionEncoder\n",
    "from mlxtend.frequent_patterns import apriori, association_rules\n",
    "import matplotlib.pyplot as plt\n",
    "import seaborn as sns\n",
    "import plotly.graph_objects as go\n",
    "from datetime import datetime\n",
    "from meteostat import Point, Daily"
   ]
  },
  {
   "cell_type": "code",
   "execution_count": null,
   "id": "9e39682d",
   "metadata": {},
   "outputs": [],
   "source": [
    "# --- Load Dataset ---\n",
    "# Import the dataset uploaded to the repo\n",
    "url = \"https://raw.githubusercontent.com/MaharLeika18/Data-Mining---Python/refs/heads/main/Final_Exam/retail_sales_dataset.csv\"\n",
    "data = pd.read_csv(url)\n",
    "\n",
    "print(\"Data loaded successfully!\")\n",
    "print(data.head())"
   ]
  },
  {
   "cell_type": "code",
   "execution_count": null,
   "id": "c8c33bb9",
   "metadata": {},
   "outputs": [],
   "source": [
    "# --- Data Preprocessing ---\n",
    "# One-hot encode all items \n",
    "transactions = data.groupby('Customer ID')['Product Category'].apply(list).values.tolist()\n",
    "\n",
    "te = TransactionEncoder()\n",
    "te_ary = te.fit(transactions).transform(transactions)\n",
    "df = pd.DataFrame(te_ary, columns=te.columns_)\n",
    "\n",
    "print(\"\\nTransaction data prepared for analysis:\")\n",
    "print(df.head())"
   ]
  },
  {
   "cell_type": "code",
   "execution_count": null,
   "id": "57a0ad83",
   "metadata": {},
   "outputs": [],
   "source": [
    "# Convert dates to datetime\n",
    "data['Date'] = pd.to_datetime(data['Date'])\n",
    "start = data['Date'].min()\n",
    "end = data['Date'].max()\n",
    "print(f\"Date range: {start.date()} to {end.date()}\")"
   ]
  },
  {
   "cell_type": "code",
   "execution_count": null,
   "id": "33ee69f9",
   "metadata": {},
   "outputs": [],
   "source": [
    "#Get historical weather data for Manila\n",
    "location = Point(14.5995, 120.9842, 70)\n",
    "\n",
    "weather_data = Daily(location, start, end)\n",
    "weather_data = weather_data.fetch()\n",
    "\n",
    "weather_data.head()"
   ]
  },
  {
   "cell_type": "code",
   "execution_count": null,
   "id": "88601d7f",
   "metadata": {},
   "outputs": [],
   "source": [
    "# Add description to the data\n",
    "def get_weather_description(row):\n",
    "    temp = row['tavg']  # average temperature\n",
    "    precip = row['prcp']  # precipitation\n",
    "    \n",
    "    if pd.isna(temp) or pd.isna(precip):\n",
    "        return \"Unknown\"\n",
    "    \n",
    "    if precip > 10: \n",
    "        return \"Heavy Rain\"\n",
    "    elif precip > 5:\n",
    "        return \"Rainy\"\n",
    "    elif precip > 1:\n",
    "        return \"Light Rain\" \n",
    "    elif temp > 29:\n",
    "        return \"Sunny\"\n",
    "    elif temp > 27:\n",
    "        return \"Partly Cloudy\"\n",
    "    else: \n",
    "        return \"Warm and Humid\"\n",
    "\n",
    "# Apply weather descriptions\n",
    "weather_data['weather'] = weather_data.apply(get_weather_description, axis=1)\n",
    "\n",
    "print(\"Weather text descriptions:\")\n",
    "print(weather_data['weather'].value_counts())\n",
    "weather_data[['tavg', 'prcp', 'weather']].head(10)"
   ]
  },
  {
   "cell_type": "code",
   "execution_count": null,
   "id": "7fa8ab9c",
   "metadata": {},
   "outputs": [],
   "source": [
    "# Create weather_data_reset for merging\n",
    "weather_data_reset = weather_data.reset_index()\n",
    "weather_data_reset.rename(columns={'time': 'Date'}, inplace=True)\n",
    "\n",
    "print(f\"Shape: {weather_data_reset.shape}\")\n",
    "display(weather_data_reset[['Date', 'weather']].head())\n",
    "\n",
    "display(weather_data_reset)\n",
    "# Merge \n",
    "data_with_weather = pd.merge(data, weather_data_reset[['Date','weather','tavg','prcp','wspd']], on='Date', how='left')"
   ]
  },
  {
   "cell_type": "code",
   "execution_count": null,
   "id": "ef2ae0da",
   "metadata": {},
   "outputs": [],
   "source": [
    "# Export\n",
    "data_with_weather.to_csv('retail_data_with_weather.csv', index=False)\n",
    "display(data_with_weather)"
   ]
  }
 ],
 "metadata": {
  "kernelspec": {
   "display_name": ".venv (3.13.0)",
   "language": "python",
   "name": "python3"
  },
  "language_info": {
   "codemirror_mode": {
    "name": "ipython",
    "version": 3
   },
   "file_extension": ".py",
   "mimetype": "text/x-python",
   "name": "python",
   "nbconvert_exporter": "python",
   "pygments_lexer": "ipython3",
   "version": "3.13.0"
  }
 },
 "nbformat": 4,
 "nbformat_minor": 5
}
