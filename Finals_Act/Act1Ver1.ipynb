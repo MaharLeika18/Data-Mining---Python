{
 "cells": [
  {
   "cell_type": "code",
   "execution_count": null,
   "id": "5456786f",
   "metadata": {},
   "outputs": [],
   "source": [
    "import pandas as pd\n",
    "import re\n",
    "from mlxtend.preprocessing import TransactionEncoder\n",
    "from mlxtend.frequent_patterns import apriori, association_rules\n",
    "import matplotlib.pyplot as plt\n",
    "import seaborn as sns\n",
    "import networkx as nx\n"
   ]
  },
  {
   "cell_type": "code",
   "execution_count": null,
   "id": "58872d02",
   "metadata": {},
   "outputs": [],
   "source": [
    "# --- Load Dataset ---\n",
    "# Import the dataset uploaded to the repo\n",
    "url = \"\"\n",
    "data = pd.read_csv(url)\n",
    "\n",
    "# Inspect first few rows\n",
    "print(data.head())"
   ]
  },
  {
   "cell_type": "code",
   "execution_count": null,
   "id": "027ad092",
   "metadata": {},
   "outputs": [],
   "source": [
    "# --- Data Preprocessing ---\n",
    "# Text formatting, remove numerics and punctuation\n",
    "data = data.lower()\n",
    "data = re.sub(r'\\d+', '', data)\n",
    "data = re.sub(r'\\s+', ' ', data)\n",
    "\n",
    "# One-hot encode all items \n",
    "transactions = data.groupby('Member_number')[\n",
    "    'itemDescription'].apply(list).values.tolist()\n",
    "\n",
    "te = TransactionEncoder()\n",
    "te_ary = te.fit(transactions).transform(transactions)\n",
    "df = pd.DataFrame(te_ary, columns=te.columns_)\n",
    "\n",
    "# Inspect\n",
    "df.head()"
   ]
  },
  {
   "cell_type": "code",
   "execution_count": null,
   "id": "ac6e0ab3",
   "metadata": {},
   "outputs": [],
   "source": [
    "# --- Use apriori ---\n",
    "frequent_itemsets = apriori(df, min_support=0.01, use_colnames=True)\n",
    "\n",
    "print(frequent_itemsets.head())"
   ]
  },
  {
   "cell_type": "code",
   "execution_count": null,
   "id": "a3cb306a",
   "metadata": {},
   "outputs": [],
   "source": [
    "# --- Use association_rules ---\n",
    "rules = association_rules(\n",
    "    frequent_itemsets, metric=\"confidence\", min_threshold=0.6, min_lift=1.2\n",
    "    )\n",
    "\n",
    "print(rules.head())"
   ]
  },
  {
   "cell_type": "code",
   "execution_count": null,
   "id": "e4a12024",
   "metadata": {},
   "outputs": [],
   "source": [
    "# --- Display top 5 rules w/ metrics --- \n",
    "# Bar Chart\n",
    "item_frequencies = df.sum().sort_values(ascending=False)\n",
    "\n",
    "plt.figure(figsize=(10, 6))\n",
    "sns.barplot(x=item_frequencies.head(5).values,\n",
    "            y=item_frequencies.head(5).index)\n",
    "plt.title('Top 5 Frequent Items')\n",
    "plt.xlabel('Frequency')\n",
    "plt.ylabel('Items')\n",
    "plt.show()"
   ]
  },
  {
   "cell_type": "code",
   "execution_count": null,
   "id": "41bdf3f7",
   "metadata": {},
   "outputs": [],
   "source": [
    "# Scatter Plot of Rules(Support vs Confidence)\n",
    "plt.figure(figsize=(8, 6))\n",
    "scatter = plt.scatter(rules['support'], rules['confidence'],\n",
    "                      c=rules['lift'], cmap='viridis', alpha=0.7)\n",
    "plt.colorbar(scatter, label='Lift')\n",
    "plt.xlabel('Support')\n",
    "plt.ylabel('Confidence')\n",
    "plt.title('Scatter Plot of Association Rules')\n",
    "plt.show()"
   ]
  },
  {
   "cell_type": "code",
   "execution_count": null,
   "id": "d539f543",
   "metadata": {},
   "outputs": [],
   "source": [
    "# Heatmap of Confidence\n",
    "rules['antecedents_str'] = rules['antecedents'].apply(\n",
    "    lambda x: ', '.join(list(x)))\n",
    "rules['consequents_str'] = rules['consequents'].apply(\n",
    "    lambda x: ', '.join(list(x)))\n",
    "\n",
    "top_ants = rules.groupby('antecedents_str')['support'].sum().nlargest(5).index\n",
    "top_cons = rules.groupby('consequents_str')['support'].sum().nlargest(5).index\n",
    "\n",
    "filtered = rules[(rules['antecedents_str'].isin(top_ants)) &\n",
    "                 (rules['consequents_str'].isin(top_cons))]\n",
    "\n",
    "heatmap_data = filtered.pivot(\n",
    "    index='antecedents_str', columns='consequents_str', values='confidence')\n",
    "\n",
    "plt.figure(figsize=(12, 8))\n",
    "sns.heatmap(heatmap_data, annot=True, cmap='YlGnBu',\n",
    "            linewidths=0.5, cbar_kws={'label': 'Confidence'})\n",
    "plt.title('Heatmap of Confidence for Top Association Rules')\n",
    "plt.xlabel('Consequents')\n",
    "plt.ylabel('Antecedents')\n",
    "plt.show()"
   ]
  }
 ],
 "metadata": {
  "kernelspec": {
   "display_name": ".venv (3.13.0)",
   "language": "python",
   "name": "python3"
  },
  "language_info": {
   "codemirror_mode": {
    "name": "ipython",
    "version": 3
   },
   "file_extension": ".py",
   "mimetype": "text/x-python",
   "name": "python",
   "nbconvert_exporter": "python",
   "pygments_lexer": "ipython3",
   "version": "3.13.0"
  }
 },
 "nbformat": 4,
 "nbformat_minor": 5
}
