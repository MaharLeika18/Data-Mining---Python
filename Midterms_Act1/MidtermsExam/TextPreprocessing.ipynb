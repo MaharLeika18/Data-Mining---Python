{
 "cells": [
  {
   "cell_type": "code",
   "execution_count": 2,
   "id": "c2451b45",
   "metadata": {},
   "outputs": [
    {
     "name": "stderr",
     "output_type": "stream",
     "text": [
      "[nltk_data] Downloading package punkt to\n",
      "[nltk_data]     /Users/louezetheianilicirsaldua/nltk_data...\n",
      "[nltk_data]   Unzipping tokenizers/punkt.zip.\n",
      "[nltk_data] Downloading package stopwords to\n",
      "[nltk_data]     /Users/louezetheianilicirsaldua/nltk_data...\n",
      "[nltk_data]   Unzipping corpora/stopwords.zip.\n",
      "[nltk_data] Downloading package punkt_tab to\n",
      "[nltk_data]     /Users/louezetheianilicirsaldua/nltk_data...\n",
      "[nltk_data]   Unzipping tokenizers/punkt_tab.zip.\n",
      "[nltk_data] Downloading package wordnet to\n",
      "[nltk_data]     /Users/louezetheianilicirsaldua/nltk_data...\n"
     ]
    }
   ],
   "source": [
    "import nltk\n",
    "import string\n",
    "import re\n",
    "import inflect\n",
    "from nltk.corpus import stopwords\n",
    "from nltk.tokenize import word_tokenize\n",
    "from nltk.stem import WordNetLemmatizer\n",
    "from nltk.stem.porter import PorterStemmer\n",
    "import pandas as pd\n",
    "\n",
    "nltk.download('punkt')\n",
    "nltk.download('stopwords')\n",
    "nltk.download('punkt_tab')\n",
    "nltk.download('wordnet')\n",
    "stemmer = PorterStemmer()\n",
    "lemmatizer = WordNetLemmatizer()\n"
   ]
  },
  {
   "cell_type": "code",
   "execution_count": 3,
   "id": "976704e6",
   "metadata": {},
   "outputs": [],
   "source": [
    "\n",
    "def importdata():\n",
    "    url = \"\"\n",
    "    text = pd.read_csv(url)\n",
    "\n",
    "    # Displaying dataset information\n",
    "    print(\"Dataset Length: \", len(text))\n",
    "    print(\"Dataset Shape: \", text.shape)\n",
    "    print(\"First 5 Rows: \\n\", text.head())\n",
    "    \n",
    "    return text\n",
    "\n",
    "def text_cleaning(text):\n",
    "    text = text.lower()                 # Force lowercase\n",
    "    text = re.sub(r'\\d+', '', text)     # Remove numbers\n",
    "\n",
    "    translator = str.maketrans('', '', string.punctuation)\n",
    "    text = text.translate(translator)   # Remove punctuation\n",
    "    text = \" \".join(text.split())       # Rem whitespace\n",
    "\n",
    "    stop_words = set(stopwords.words(\"english\"))\n",
    "    word_tokens = word_tokenize(text)\n",
    "    text = [word for word in word_tokens if word.lower()\n",
    "                     not in stop_words] # Rem stop words\n",
    "\n",
    "    word_tokens = word_tokenize(text)   # Tokenize\n",
    "    text = [stemmer.stem(word) for word in word_tokens]\n",
    "\n",
    "    word_tokens = word_tokenize(text)   # Lemmatization\n",
    "    text = [lemmatizer.lemmatize(word) for word in word_tokens]\n",
    "\n",
    "    "
   ]
  }
 ],
 "metadata": {
  "kernelspec": {
   "display_name": ".venv (3.13.0)",
   "language": "python",
   "name": "python3"
  },
  "language_info": {
   "codemirror_mode": {
    "name": "ipython",
    "version": 3
   },
   "file_extension": ".py",
   "mimetype": "text/x-python",
   "name": "python",
   "nbconvert_exporter": "python",
   "pygments_lexer": "ipython3",
   "version": "3.13.0"
  }
 },
 "nbformat": 4,
 "nbformat_minor": 5
}
