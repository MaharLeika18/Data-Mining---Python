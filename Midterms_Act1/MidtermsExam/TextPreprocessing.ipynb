{
 "cells": [
  {
   "cell_type": "code",
   "execution_count": 1,
   "id": "c2451b45",
   "metadata": {},
   "outputs": [],
   "source": [
    "import nltk\n",
    "import string\n",
    "import re\n",
    "import inflect\n",
    "from nltk.corpus import stopwords\n",
    "from nltk.tokenize import word_tokenize\n",
    "from nltk.stem import WordNetLemmatizer\n",
    "from nltk.stem.porter import PorterStemmer\n",
    "import pandas as pd\n",
    "from collections import Counter\n",
    "import spacy\n",
    "import requests\n",
    "import io\n",
    "import csv\n",
    "import matplotlib.pyplot as plt\n",
    "\n",
    "nltk.download('punkt', quiet=True)\n",
    "nltk.download('stopwords', quiet=True)\n",
    "nltk.download('wordnet', quiet=True)\n",
    "\n",
    "stemmer = PorterStemmer()\n",
    "lemmatizer = WordNetLemmatizer()\n",
    "nlp = spacy.load(\"en_core_web_sm\")"
   ]
  },
  {
   "cell_type": "code",
   "execution_count": 2,
   "id": "976704e6",
   "metadata": {},
   "outputs": [],
   "source": [
    "def importdata(url):\n",
    "    response = requests.get(url)\n",
    "    response.raise_for_status()\n",
    "    raw_text = response.text\n",
    "\n",
    "    # Parse CSV \n",
    "    reader = csv.reader(io.StringIO(raw_text), delimiter=',', quotechar='\"', skipinitialspace=True)\n",
    "    rows = list(reader)\n",
    "    max_cols = max(len(r) for r in rows)\n",
    "    for r in rows:\n",
    "        while len(r) < max_cols:\n",
    "            r.append(None)\n",
    "    df = pd.DataFrame(rows[1:], columns=rows[0])\n",
    "\n",
    "    print(f\"Loaded DataFrame: {len(df)} rows × {len(df.columns)} columns\")\n",
    "    return df\n",
    "\n",
    "def clean_text(text):\n",
    "    if not isinstance(text, str):\n",
    "        return \"\"\n",
    "\n",
    "    # Handle text formatting and non-text values\n",
    "    text = text.lower()\n",
    "    text = re.sub(r'\\d+', '', text)\n",
    "    text = re.sub(r'\\s+', ' ', text)\n",
    "    text = text.translate(str.maketrans('', '', string.punctuation))\n",
    "\n",
    "    # Tokenize, remove stopwords, stem + lemmatize\n",
    "    tokens = word_tokenize(text)\n",
    "    tokens = [t for t in tokens if t not in stopwords.words('english')]\n",
    "    tokens = [stemmer.stem(t) for t in tokens]\n",
    "    tokens = [lemmatizer.lemmatize(t) for t in tokens]\n",
    "\n",
    "    return \" \".join(tokens)\n",
    "\n",
    "# Categorize jobs into umbrella titles for easier processing & reading\n",
    "def categorize_title(title):\n",
    "    title = str(title).lower()\n",
    "\n",
    "    if re.search(r'\\bscientist(s)?\\b', title):\n",
    "        return 'Data Scientist'\n",
    "    elif re.search(r'\\banalyst(s)?\\b', title):\n",
    "        return 'Data Analyst'\n",
    "    elif re.search(r'\\bengineer(s)?\\b', title):\n",
    "        return 'Data Engineer'\n",
    "    elif re.search(r'\\bengineer(s)?\\b', title):\n",
    "        return 'Data Engineer'\n",
    "    elif re.search(r'\\bcloud(s)?\\b', title):\n",
    "        return 'Cloud Computing'\n",
    "    elif re.search(r'\\bintern(ship|ships)?\\b', title):\n",
    "        return 'Data Science Intern'\n",
    "    elif re.search(r'\\bspecialist(s)?\\b', title):\n",
    "        return 'Data Specialist'\n",
    "    elif re.search(r'\\bmachine learning\\b', title) or re.search(r'\\bml\\b', title):\n",
    "        return 'Machine Learning Engineer'\n",
    "    elif re.search(r'\\bbusiness intelligence\\b', title) or re.search(r'\\bbi\\b', title):\n",
    "        return 'Business Intelligence Analyst'\n",
    "    elif re.search(r'\\bconsultant\\b', title):\n",
    "        return 'Data Consultant'\n",
    "    elif re.search(r'\\bmanager\\b', title):\n",
    "        return 'Data Manager'\n",
    "    else:\n",
    "        return 'Other Data Science Role'\n",
    "\n"
   ]
  },
  {
   "cell_type": "code",
   "execution_count": 3,
   "id": "a87fde77",
   "metadata": {},
   "outputs": [
    {
     "name": "stdout",
     "output_type": "stream",
     "text": [
      "Loaded DataFrame: 790 rows × 5 columns\n"
     ]
    }
   ],
   "source": [
    "url = \"https://raw.githubusercontent.com/MaharLeika18/Data-Mining---Python/refs/heads/Loue/Midterms_Act1/MidtermsExam/Jobs.csv\"\n",
    "df = importdata(url)\n",
    "\n",
    "df[\"categorized_title\"] = df[\"title\"].apply(categorize_title)\n",
    "df[\"description\"] = df[\"description\"].apply(clean_text)"
   ]
  },
  {
   "cell_type": "code",
   "execution_count": null,
   "id": "df5a59c9",
   "metadata": {},
   "outputs": [
    {
     "name": "stdout",
     "output_type": "stream",
     "text": [
      "Index(['', 'title', 'company', 'announcement', 'description',\n",
      "       'categorized_title'],\n",
      "      dtype='object')\n",
      "                                                title        categorized_title\n",
      "0          Senior Analyst, Data Science and Analytics             Data Analyst\n",
      "1                               Senior Data Scientist           Data Scientist\n",
      "2                           Lead Data Science Analyst             Data Analyst\n",
      "3                                 Data Science Intern      Data Science Intern\n",
      "4                                      Data Scientist           Data Scientist\n",
      "5           Senior Solutions Architect (Data Science)  Other Data Science Role\n",
      "6                               Senior Data Scientist           Data Scientist\n",
      "7   Data Scientist - Research, Development & Const...           Data Scientist\n",
      "8                 Data Science Manager - S&A Strategy             Data Manager\n",
      "9                     Senior/Principal Data Scientist           Data Scientist\n",
      "10                                     Data Scientist           Data Scientist\n",
      "11                               Data Science Analyst             Data Analyst\n",
      "12       Senior Data Scientist - Knowledge Management           Data Scientist\n",
      "13                         Data Scientist, Consultant           Data Scientist\n",
      "14                              Senior-Data Scientist           Data Scientist\n",
      "15                               Staff Data Scientist           Data Scientist\n",
      "16                            Data Science Internship      Data Science Intern\n",
      "17  Undergrad Intern – Data Science Program (Summe...      Data Science Intern\n",
      "18  Data Science, Department of Information Techno...  Other Data Science Role\n",
      "19                                     Data Scientist           Data Scientist\n"
     ]
    }
   ],
   "source": [
    "# Inspect columns and titles\n",
    "print(df.columns)\n",
    "print(df[[\"title\", \"categorized_title\"]].head(20))"
   ]
  },
  {
   "cell_type": "code",
   "execution_count": 9,
   "id": "d23de12e",
   "metadata": {},
   "outputs": [],
   "source": [
    "# Export dataframe as csv\n",
    "df.to_csv('ProcessedJobs.csv')"
   ]
  }
 ],
 "metadata": {
  "kernelspec": {
   "display_name": ".venv (3.13.0)",
   "language": "python",
   "name": "python3"
  },
  "language_info": {
   "codemirror_mode": {
    "name": "ipython",
    "version": 3
   },
   "file_extension": ".py",
   "mimetype": "text/x-python",
   "name": "python",
   "nbconvert_exporter": "python",
   "pygments_lexer": "ipython3",
   "version": "3.13.0"
  }
 },
 "nbformat": 4,
 "nbformat_minor": 5
}
