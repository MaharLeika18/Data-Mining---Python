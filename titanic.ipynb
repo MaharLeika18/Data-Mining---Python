{
 "cells": [
  {
   "cell_type": "code",
   "execution_count": 1,
   "id": "78056d79",
   "metadata": {},
   "outputs": [],
   "source": [
    "import pandas as pd\n",
    "import numpy as np\n",
    "from matplotlib import pyplot as plt\n",
    "import seaborn as sns"
   ]
  },
  {
   "cell_type": "code",
   "execution_count": 2,
   "id": "2c62586a",
   "metadata": {},
   "outputs": [],
   "source": [
    "# Load dataset \n",
    "url = \"https://raw.githubusercontent.com/MaharLeika18/Data-Mining---Python/refs/heads/main/Titanic-Dataset.csv\"\n",
    "data = pd.read_csv(url)"
   ]
  },
  {
   "cell_type": "code",
   "execution_count": 3,
   "id": "98eb7310",
   "metadata": {},
   "outputs": [],
   "source": [
    "# Clean and preprocess the data\n",
    "data = data.drop_duplicates()   # Drop dupes\n",
    "data['Age'] = data['Age'].fillna(data['Age'].median())  # Fill missing cells in Age w/ median\n",
    "data['Fare'] = data['Fare'].fillna(data['Fare'].median()) # Same but in Fare\n",
    "data['Embarked'] = data['Embarked'].fillna(data['Embarked'].mode()[0]) # Same but in Embarked and fill w/ mode\n",
    "\n",
    "# Drop columns that won't be used\n",
    "data = data.drop(['PassengerId', 'Ticket', 'Cabin'], axis=1)\n",
    "\n",
    "# Create new columns for:\n",
    "data['Family'] = data['SibSp'] + data['Parch'] + 1  # Total family members on board\n",
    "data['IsAlone'] = (data['Family'] == 1).astype(int) # Whether they are travelling alone or not\n",
    "\n",
    "# Convert text values into measurable numerical values\n",
    "data['Sex'] = data['Sex'].map({'male':0, 'female':1})   # Male = 0, Female = 1\n",
    "data = pd.get_dummies(data, columns=['Embarked'], drop_first=True)  # one-hot encode (S, C, Q)\n"
   ]
  },
  {
   "cell_type": "code",
   "execution_count": 4,
   "id": "e859ff9f",
   "metadata": {},
   "outputs": [
    {
     "name": "stdout",
     "output_type": "stream",
     "text": [
      "         Survived      Pclass         Sex         Age       SibSp       Parch  \\\n",
      "count  891.000000  891.000000  891.000000  891.000000  891.000000  891.000000   \n",
      "mean     0.383838    2.308642    0.352413   29.361582    0.523008    0.381594   \n",
      "std      0.486592    0.836071    0.477990   13.019697    1.102743    0.806057   \n",
      "min      0.000000    1.000000    0.000000    0.420000    0.000000    0.000000   \n",
      "25%      0.000000    2.000000    0.000000   22.000000    0.000000    0.000000   \n",
      "50%      0.000000    3.000000    0.000000   28.000000    0.000000    0.000000   \n",
      "75%      1.000000    3.000000    1.000000   35.000000    1.000000    0.000000   \n",
      "max      1.000000    3.000000    1.000000   80.000000    8.000000    6.000000   \n",
      "\n",
      "             Fare      Family     IsAlone  \n",
      "count  891.000000  891.000000  891.000000  \n",
      "mean    32.204208    1.904602    0.602694  \n",
      "std     49.693429    1.613459    0.489615  \n",
      "min      0.000000    1.000000    0.000000  \n",
      "25%      7.910400    1.000000    0.000000  \n",
      "50%     14.454200    1.000000    1.000000  \n",
      "75%     31.000000    2.000000    1.000000  \n",
      "max    512.329200   11.000000    1.000000  \n"
     ]
    },
    {
     "data": {
      "text/html": [
       "<div>\n",
       "<style scoped>\n",
       "    .dataframe tbody tr th:only-of-type {\n",
       "        vertical-align: middle;\n",
       "    }\n",
       "\n",
       "    .dataframe tbody tr th {\n",
       "        vertical-align: top;\n",
       "    }\n",
       "\n",
       "    .dataframe thead th {\n",
       "        text-align: right;\n",
       "    }\n",
       "</style>\n",
       "<table border=\"1\" class=\"dataframe\">\n",
       "  <thead>\n",
       "    <tr style=\"text-align: right;\">\n",
       "      <th></th>\n",
       "      <th>Survived</th>\n",
       "      <th>Pclass</th>\n",
       "      <th>Name</th>\n",
       "      <th>Sex</th>\n",
       "      <th>Age</th>\n",
       "      <th>SibSp</th>\n",
       "      <th>Parch</th>\n",
       "      <th>Fare</th>\n",
       "      <th>Family</th>\n",
       "      <th>IsAlone</th>\n",
       "      <th>Embarked_Q</th>\n",
       "      <th>Embarked_S</th>\n",
       "    </tr>\n",
       "  </thead>\n",
       "  <tbody>\n",
       "    <tr>\n",
       "      <th>392</th>\n",
       "      <td>0</td>\n",
       "      <td>3</td>\n",
       "      <td>Gustafsson, Mr. Johan Birger</td>\n",
       "      <td>0</td>\n",
       "      <td>28.0</td>\n",
       "      <td>2</td>\n",
       "      <td>0</td>\n",
       "      <td>7.925</td>\n",
       "      <td>3</td>\n",
       "      <td>0</td>\n",
       "      <td>False</td>\n",
       "      <td>True</td>\n",
       "    </tr>\n",
       "    <tr>\n",
       "      <th>468</th>\n",
       "      <td>0</td>\n",
       "      <td>3</td>\n",
       "      <td>Scanlan, Mr. James</td>\n",
       "      <td>0</td>\n",
       "      <td>28.0</td>\n",
       "      <td>0</td>\n",
       "      <td>0</td>\n",
       "      <td>7.725</td>\n",
       "      <td>1</td>\n",
       "      <td>1</td>\n",
       "      <td>True</td>\n",
       "      <td>False</td>\n",
       "    </tr>\n",
       "    <tr>\n",
       "      <th>188</th>\n",
       "      <td>0</td>\n",
       "      <td>3</td>\n",
       "      <td>Bourke, Mr. John</td>\n",
       "      <td>0</td>\n",
       "      <td>40.0</td>\n",
       "      <td>1</td>\n",
       "      <td>1</td>\n",
       "      <td>15.500</td>\n",
       "      <td>3</td>\n",
       "      <td>0</td>\n",
       "      <td>True</td>\n",
       "      <td>False</td>\n",
       "    </tr>\n",
       "    <tr>\n",
       "      <th>267</th>\n",
       "      <td>1</td>\n",
       "      <td>3</td>\n",
       "      <td>Persson, Mr. Ernst Ulrik</td>\n",
       "      <td>0</td>\n",
       "      <td>25.0</td>\n",
       "      <td>1</td>\n",
       "      <td>0</td>\n",
       "      <td>7.775</td>\n",
       "      <td>2</td>\n",
       "      <td>0</td>\n",
       "      <td>False</td>\n",
       "      <td>True</td>\n",
       "    </tr>\n",
       "    <tr>\n",
       "      <th>185</th>\n",
       "      <td>0</td>\n",
       "      <td>1</td>\n",
       "      <td>Rood, Mr. Hugh Roscoe</td>\n",
       "      <td>0</td>\n",
       "      <td>28.0</td>\n",
       "      <td>0</td>\n",
       "      <td>0</td>\n",
       "      <td>50.000</td>\n",
       "      <td>1</td>\n",
       "      <td>1</td>\n",
       "      <td>False</td>\n",
       "      <td>True</td>\n",
       "    </tr>\n",
       "  </tbody>\n",
       "</table>\n",
       "</div>"
      ],
      "text/plain": [
       "     Survived  Pclass                          Name  Sex   Age  SibSp  Parch  \\\n",
       "392         0       3  Gustafsson, Mr. Johan Birger    0  28.0      2      0   \n",
       "468         0       3            Scanlan, Mr. James    0  28.0      0      0   \n",
       "188         0       3              Bourke, Mr. John    0  40.0      1      1   \n",
       "267         1       3      Persson, Mr. Ernst Ulrik    0  25.0      1      0   \n",
       "185         0       1         Rood, Mr. Hugh Roscoe    0  28.0      0      0   \n",
       "\n",
       "       Fare  Family  IsAlone  Embarked_Q  Embarked_S  \n",
       "392   7.925       3        0       False        True  \n",
       "468   7.725       1        1        True       False  \n",
       "188  15.500       3        0        True       False  \n",
       "267   7.775       2        0       False        True  \n",
       "185  50.000       1        1       False        True  "
      ]
     },
     "execution_count": 4,
     "metadata": {},
     "output_type": "execute_result"
    }
   ],
   "source": [
    "# Preview the cleaned data, see what columns can be used for analysis\n",
    "print(data.describe()) # Summary\n",
    "data.sample(5)  # Random 5 rows\n"
   ]
  },
  {
   "cell_type": "code",
   "execution_count": 14,
   "id": "86f755d0",
   "metadata": {},
   "outputs": [
    {
     "data": {
      "image/png": "[encoded data removed]",
      "text/plain": [
       "<Figure size 640x480 with 1 Axes>"
      ]
     },
     "metadata": {},
     "output_type": "display_data"
    }
   ],
   "source": [
    "# Compare fare of passengers that survived and those that didn't - Bar chart\n",
    "sns.barplot(x='Survived', y='Fare',data=data)\n",
    "\n",
    "\n",
    "plt.title(\"Fare of passengers and their survival\")\n",
    "plt.xlabel(\"Survival\")\n",
    "plt.ylabel(\"Fare\")\n",
    "plt.ylim(0, 600)\n",
    "plt.yticks([0, 100, 200, 300, 400, 500, 600])\n",
    "\n",
    "plt.show()\n",
    "\n"
   ]
  },
  {
   "cell_type": "code",
   "execution_count": 6,
   "id": "e24afd4e",
   "metadata": {},
   "outputs": [],
   "source": [
    "# Display the survival rate of passengers based on their age and gender - Bar chart\n"
   ]
  },
  {
   "cell_type": "code",
   "execution_count": 7,
   "id": "10ac3f02",
   "metadata": {},
   "outputs": [],
   "source": [
    "# Compare family sizes of passengers that survived and those that didn't - Scatterplot\n"
   ]
  },
  {
   "cell_type": "code",
   "execution_count": 8,
   "id": "bd148efc",
   "metadata": {},
   "outputs": [],
   "source": [
    "# Compare survival rate of passengers based on passenger class and fare - Scatter\n"
   ]
  },
  {
   "cell_type": "code",
   "execution_count": 9,
   "id": "52675b53",
   "metadata": {},
   "outputs": [],
   "source": [
    "# Compare survival rate of passengers based on whether they travelled alone or not - Bar\n"
   ]
  },
  {
   "cell_type": "code",
   "execution_count": 10,
   "id": "90b797d2",
   "metadata": {},
   "outputs": [],
   "source": [
    "# Compare survival rate of passengers based on where they embarked from - Bar\n"
   ]
  }
 ],
 "metadata": {
  "kernelspec": {
   "display_name": ".venv (3.13.0)",
   "language": "python",
   "name": "python3"
  },
  "language_info": {
   "codemirror_mode": {
    "name": "ipython",
    "version": 3
   },
   "file_extension": ".py",
   "mimetype": "text/x-python",
   "name": "python",
   "nbconvert_exporter": "python",
   "pygments_lexer": "ipython3",
   "version": "3.13.0"
  }
 },
 "nbformat": 4,
 "nbformat_minor": 5
}
