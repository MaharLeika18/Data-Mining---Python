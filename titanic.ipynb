{
 "cells": [
  {
   "cell_type": "code",
   "execution_count": 1,
   "id": "78056d79",
   "metadata": {},
   "outputs": [],
   "source": [
    "import pandas as pd\n",
    "import numpy as np\n",
    "import matplotlib.pyplot as plt"
   ]
  },
  {
   "cell_type": "code",
   "execution_count": 2,
   "id": "2c62586a",
   "metadata": {},
   "outputs": [],
   "source": [
    "# Load dataset \n",
    "url = \"https://raw.githubusercontent.com/MaharLeika18/Data-Mining---Python/refs/heads/main/Titanic-Dataset.csv\"\n",
    "data = pd.read_csv(url)"
   ]
  },
  {
   "cell_type": "code",
   "execution_count": 3,
   "id": "98eb7310",
   "metadata": {},
   "outputs": [],
   "source": [
    "# Clean the data\n",
    "data = data.fillna(0)\n",
    "data = data.drop_duplicates()\n",
    "\n",
    "# Create a new column for Family\n",
    "data['Family'] = data['SibSp'] + data['Parch'] + 1"
   ]
  },
  {
   "cell_type": "code",
   "execution_count": 4,
   "id": "f54cd163",
   "metadata": {},
   "outputs": [
    {
     "data": {
      "text/plain": [
       "\"\\n# Plot Survival Patterns by Category\\ncategory_survivors = data.groupby('Category')['Survivors'].sum()\\ncategory_survivors.plot(kind='bar')\\nplt.title('Survivors by Pattern Category')\\nplt.xlabel('Category')\\nplt.ylabel('Total Survivors')\\nplt.show()\\n\""
      ]
     },
     "execution_count": 4,
     "metadata": {},
     "output_type": "execute_result"
    }
   ],
   "source": [
    "\"\"\"\n",
    "# Plot Survival Patterns by Category\n",
    "category_survivors = data.groupby('Category')['Survivors'].sum()\n",
    "category_survivors.plot(kind='bar')\n",
    "plt.title('Survivors by Pattern Category')\n",
    "plt.xlabel('Category')\n",
    "plt.ylabel('Total Survivors')\n",
    "plt.show()\n",
    "\"\"\""
   ]
  },
  {
   "cell_type": "code",
   "execution_count": 5,
   "id": "e859ff9f",
   "metadata": {},
   "outputs": [
    {
     "name": "stdout",
     "output_type": "stream",
     "text": [
      "       PassengerId    Survived      Pclass         Age       SibSp  \\\n",
      "count   891.000000  891.000000  891.000000  891.000000  891.000000   \n",
      "mean    446.000000    0.383838    2.308642   23.799293    0.523008   \n",
      "std     257.353842    0.486592    0.836071   17.596074    1.102743   \n",
      "min       1.000000    0.000000    1.000000    0.000000    0.000000   \n",
      "25%     223.500000    0.000000    2.000000    6.000000    0.000000   \n",
      "50%     446.000000    0.000000    3.000000   24.000000    0.000000   \n",
      "75%     668.500000    1.000000    3.000000   35.000000    1.000000   \n",
      "max     891.000000    1.000000    3.000000   80.000000    8.000000   \n",
      "\n",
      "            Parch        Fare      Family  \n",
      "count  891.000000  891.000000  891.000000  \n",
      "mean     0.381594   32.204208    1.904602  \n",
      "std      0.806057   49.693429    1.613459  \n",
      "min      0.000000    0.000000    1.000000  \n",
      "25%      0.000000    7.910400    1.000000  \n",
      "50%      0.000000   14.454200    1.000000  \n",
      "75%      0.000000   31.000000    2.000000  \n",
      "max      6.000000  512.329200   11.000000  \n"
     ]
    }
   ],
   "source": [
    "# Summary statistics\n",
    "print(data.describe())\n"
   ]
  },
  {
   "cell_type": "code",
   "execution_count": 6,
   "id": "e620297e",
   "metadata": {},
   "outputs": [
    {
     "name": "stdout",
     "output_type": "stream",
     "text": [
      "     PassengerId  Survived  Pclass                                               Name     Sex   Age  SibSp  Parch            Ticket    Fare Cabin Embarked  Family\n",
      "0              1         0       3                            Braund, Mr. Owen Harris    male  22.0      1      0         A/5 21171   7.250     0        S       2\n",
      "1              2         1       1  Cumings, Mrs. John Bradley (Florence Briggs Th...  female  38.0      1      0          PC 17599  71.283   C85        C       2\n",
      "2              3         1       3                             Heikkinen, Miss. Laina  female  26.0      0      0  STON/O2. 3101282   7.925     0        S       1\n",
      "3              4         1       1       Futrelle, Mrs. Jacques Heath (Lily May Peel)  female  35.0      1      0            113803  53.100  C123        S       2\n",
      "4              5         0       3                           Allen, Mr. William Henry    male  35.0      0      0            373450   8.050     0        S       1\n",
      "..           ...       ...     ...                                                ...     ...   ...    ...    ...               ...     ...   ...      ...     ...\n",
      "886          887         0       2                              Montvila, Rev. Juozas    male  27.0      0      0            211536  13.000     0        S       1\n",
      "887          888         1       1                       Graham, Miss. Margaret Edith  female  19.0      0      0            112053  30.000   B42        S       1\n",
      "888          889         0       3           Johnston, Miss. Catherine Helen \"Carrie\"  female   0.0      1      2        W./C. 6607  23.450     0        S       4\n",
      "889          890         1       1                              Behr, Mr. Karl Howell    male  26.0      0      0            111369  30.000  C148        C       1\n",
      "890          891         0       3                                Dooley, Mr. Patrick    male  32.0      0      0            370376   7.750     0        Q       1\n",
      "\n",
      "[891 rows x 13 columns]\n"
     ]
    }
   ],
   "source": [
    "# Test print rows\n",
    "pd.set_option('display.max_rows', 20) # Display all rows\n",
    "pd.set_option('display.max_columns', None) # Display all columns\n",
    "pd.set_option('display.width', 1000) # Adjust display width for more columns\n",
    "pd.set_option('display.precision', 2) # Set precision for floating-point numbers\n",
    "\n",
    "with pd.option_context('display.max_rows', 10, 'display.precision', 3):\n",
    "    print(data)"
   ]
  },
  {
   "cell_type": "code",
   "execution_count": 7,
   "id": "774df2b4",
   "metadata": {},
   "outputs": [
    {
     "name": "stdout",
     "output_type": "stream",
     "text": [
      "0      False\n",
      "1      False\n",
      "2      False\n",
      "3      False\n",
      "4      False\n",
      "       ...  \n",
      "886    False\n",
      "887    False\n",
      "888    False\n",
      "889    False\n",
      "890    False\n",
      "Length: 891, dtype: bool\n"
     ]
    }
   ],
   "source": [
    "nan_rows = data.isna().any(axis=1)\n",
    "print(nan_rows)\n"
   ]
  }
 ],
 "metadata": {
  "kernelspec": {
   "display_name": "Python 3",
   "language": "python",
   "name": "python3"
  },
  "language_info": {
   "codemirror_mode": {
    "name": "ipython",
    "version": 3
   },
   "file_extension": ".py",
   "mimetype": "text/x-python",
   "name": "python",
   "nbconvert_exporter": "python",
   "pygments_lexer": "ipython3",
   "version": "3.13.1"
  }
 },
 "nbformat": 4,
 "nbformat_minor": 5
}
