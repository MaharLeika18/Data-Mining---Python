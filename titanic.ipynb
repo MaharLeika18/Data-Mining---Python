{
 "cells": [
  {
   "cell_type": "code",
   "execution_count": null,
   "id": "78056d79",
   "metadata": {},
   "outputs": [],
   "source": [
    "import pandas as pd\n",
    "import numpy as np\n",
    "from matplotlib import pyplot as plt\n",
    "import seaborn as sns"
   ]
  },
  {
   "cell_type": "code",
   "execution_count": null,
   "id": "2c62586a",
   "metadata": {},
   "outputs": [],
   "source": [
    "# Load dataset \n",
    "url = \"https://raw.githubusercontent.com/MaharLeika18/Data-Mining---Python/refs/heads/main/Titanic-Dataset.csv\"\n",
    "data = pd.read_csv(url)"
   ]
  },
  {
   "cell_type": "code",
   "execution_count": null,
   "id": "98eb7310",
   "metadata": {},
   "outputs": [],
   "source": [
    "# Clean and preprocess the data\n",
    "data = data.drop_duplicates()   # Drop dupes\n",
    "data['Age'] = data['Age'].fillna(data['Age'].median())  # Fill missing cells in Age w/ median\n",
    "data['Fare'] = data['Fare'].fillna(data['Fare'].median()) # Same but in Fare\n",
    "data['Embarked'] = data['Embarked'].fillna(data['Embarked'].mode()[0]) # Same but in Embarked and fill w/ mode\n",
    "\n",
    "# Drop columns that won't be used\n",
    "data = data.drop(['PassengerId', 'Ticket', 'Cabin', 'Name'], axis=1)\n",
    "\n",
    "# Create new columns for:\n",
    "data['Family'] = data['SibSp'] + data['Parch'] + 1  # Total family members on board\n",
    "data['IsAlone'] = (data['Family'] == 1).astype(int) # Whether they are travelling alone or not\n",
    "\n",
    "# Convert text values into measurable numerical values\n",
    "data['Sex'] = data['Sex'].map({'male':0, 'female':1})   # Male = 0, Female = 1\n",
    "data['Embarked'] = data['Embarked'].map({'S':0, 'C':1, 'Q':2}) # S = 0, C = 1, Q = 2\n",
    "\n",
    "data['Survived'] = data['Survived'].astype('category')\n"
   ]
  },
  {
   "cell_type": "code",
   "execution_count": null,
   "id": "e859ff9f",
   "metadata": {},
   "outputs": [],
   "source": [
    "# Preview the cleaned data, see what columns can be used for analysis\n",
    "print(data.describe()) # Summary\n",
    "data.sample(10)  # Random 5 rows\n"
   ]
  },
  {
   "cell_type": "code",
   "execution_count": null,
   "id": "a23341d1",
   "metadata": {},
   "outputs": [],
   "source": [
    "# Display the count of categories across multiple columns - Bar chart\n",
    "categories = [\"Sex\", \"Pclass\", \"IsAlone\", \"Survived\", \"Embarked\"]\n",
    "converted = data[categories].melt(var_name=\"Feature\", value_name=\"Category\")  # Convert the columns into rows\n",
    "\n",
    "sns.countplot(data=converted, x=\"Feature\", hue=\"Category\")\n",
    "plt.title(\"Counts of Categories per Feature\")\n",
    "plt.ylabel(\"Count\")\n",
    "plt.xlabel(\"Feature\")\n",
    "plt.ylim(top=750)\n",
    "plt.legend([\"0 (Male/No/S)\", \"1 (Female/Yes/C)\", \"2 (Q)\", \"3\"])\n",
    "\n",
    "plt.show()\n",
    "\n"
   ]
  },
  {
   "cell_type": "code",
   "execution_count": null,
   "id": "d0511325",
   "metadata": {},
   "outputs": [],
   "source": [
    "# Compare survival rate of passengers based on whether they travelled alone or not - Bar\n",
    "sns.countplot(x=\"Survived\", hue=\"IsAlone\",data=data)\n",
    "\n",
    "plt.title(\"Survival Count by Traveling Alone vs With Family\")\n",
    "plt.xlabel(\"Survival\")\n",
    "plt.ylabel(\"Count\")\n",
    "plt.xticks([0, 1], [\"Did Not Survive\", \"Survived\"])\n",
    "plt.legend([\"With Family\", \"Alone\"])\n",
    "\n",
    "plt.show()"
   ]
  },
  {
   "cell_type": "code",
   "execution_count": null,
   "id": "c5d1502c",
   "metadata": {},
   "outputs": [],
   "source": [
    "# Compare survival rate of passengers based on where they embarked from - Bar\n",
    "sns.countplot(x=\"Survived\", hue=\"Embarked\",data=data)\n",
    "\n",
    "plt.title(\"Survival Count of Passengers by Where They Embarked From\")\n",
    "plt.xlabel(\"Survival\")\n",
    "plt.ylabel(\"Count\")\n",
    "plt.xticks([0, 1], [\"Did Not Survive\", \"Survived\"])\n",
    "plt.legend([\"Southampton\", \"Cherbourg\", \"Queenstown\"])\n",
    "\n",
    "plt.show()\n"
   ]
  },
  {
   "cell_type": "code",
   "execution_count": null,
   "id": "0ba7f780",
   "metadata": {},
   "outputs": [],
   "source": [
    "# Compare fare of passengers that survived and those that didn't - Scatter chart"
   ]
  },
  {
   "cell_type": "code",
   "execution_count": null,
   "id": "e24afd4e",
   "metadata": {},
   "outputs": [],
   "source": [
    "# Display the survival rate of passengers based on their age and gender - Scatter \n"
   ]
  },
  {
   "cell_type": "code",
   "execution_count": null,
   "id": "10ac3f02",
   "metadata": {},
   "outputs": [],
   "source": [
    "# Compare age and family sizes of passengers that survived and those that didn't - Scatterplot\n",
    "sns.stripplot(x=\"Family\", y=\"Age\", data=data, hue=\"Survived\")\n",
    "\n",
    "plt.title(\"Age and Family Size of Survivors and Non-survivors\")\n",
    "plt.xlabel(\"Family Size\")\n",
    "plt.ylabel(\"Age\")\n",
    "plt.legend(title=\"Survived\",labels=[\"No\", \"Yes\"])\n",
    "\n",
    "plt.show()"
   ]
  },
  {
   "cell_type": "code",
   "execution_count": null,
   "id": "bd148efc",
   "metadata": {},
   "outputs": [],
   "source": [
    "# Compare survival rate of passengers based on passenger class and fare - Scatter\n",
    "lowerHalf = (0, 300)\n",
    "upperHalf = (500, 530)\n",
    "\n",
    "fig, (ax1, ax2) = plt.subplots(\n",
    "    2, 1, sharex=True, figsize=(8,6), gridspec_kw={'height_ratios':[1,3]}\n",
    ")\n",
    "\n",
    "sns.stripplot(x=\"Pclass\", y=\"Fare\", hue=\"Survived\", data=data, ax=ax1, jitter=True, dodge=True)\n",
    "sns.stripplot(x=\"Pclass\", y=\"Fare\", hue=\"Survived\", data=data, ax=ax2, legend=False, jitter=True, dodge=True)\n",
    "\n",
    "ax1.set_ylim(upperHalf)\n",
    "ax2.set_ylim(lowerHalf)\n",
    "\n",
    "ax1.spines['bottom'].set_visible(False)\n",
    "ax2.spines['top'].set_visible(False)\n",
    "\n",
    "ax1.tick_params(axis='x', which='both', bottom=False, top=False, labelbottom=False)\n",
    "ax1.tick_params(axis='y', which='both', labelbottom=False)\n",
    "\n",
    "d = .015\n",
    "kwargs = dict(transform=ax1.transAxes, color='k', clip_on=False)\n",
    "ax1.plot((-d,+d), (-d,+d), **kwargs)        \n",
    "ax1.plot((1-d,1+d), (-d,+d), **kwargs)     \n",
    "\n",
    "kwargs.update(transform=ax2.transAxes) \n",
    "ax2.plot((-d,+d), (1-d,1+d), **kwargs)     \n",
    "ax2.plot((1-d,1+d), (1-d,1+d), **kwargs)   \n",
    "\n",
    "ax2.set_xlabel(\"Passenger Class\")\n",
    "ax1.set_ylabel(\"Fare\")\n",
    "ax2.set_ylabel(\"Fare\")\n",
    "# ax1.legend(title=\"Survival\", labels=[\"Non-Survivor\", \"Survivor\"])     Color is wrong and idk why\n",
    "plt.suptitle(\"Passenger Class and Fare of Survivors and Non-survivors\")\n",
    "\n",
    "plt.show()"
   ]
  },
  {
   "cell_type": "code",
   "execution_count": null,
   "id": "4f045564",
   "metadata": {},
   "outputs": [],
   "source": [
    "# Boxplot Version\n",
    "sns.boxplot(x=\"Pclass\", y=\"Fare\", data=data, showfliers=False)\n",
    "\n",
    "plt.title(\"Passenger Class and Fare of Survivors and Non-survivors\")\n",
    "plt.xlabel(\"Passenger Class\")\n",
    "plt.ylabel(\"Fare\")\n",
    "\n",
    "plt.show()\n"
   ]
  },
  {
   "cell_type": "code",
   "execution_count": null,
   "id": "3f020ed3",
   "metadata": {},
   "outputs": [],
   "source": [
    "# Decision Tree\n"
   ]
  }
 ],
 "metadata": {
  "kernelspec": {
   "display_name": ".venv (3.13.0)",
   "language": "python",
   "name": "python3"
  },
  "language_info": {
   "codemirror_mode": {
    "name": "ipython",
    "version": 3
   },
   "file_extension": ".py",
   "mimetype": "text/x-python",
   "name": "python",
   "nbconvert_exporter": "python",
   "pygments_lexer": "ipython3",
   "version": "3.13.0"
  }
 },
 "nbformat": 4,
 "nbformat_minor": 5
}
